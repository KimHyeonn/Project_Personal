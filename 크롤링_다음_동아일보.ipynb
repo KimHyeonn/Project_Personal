{
 "cells": [
  {
   "cell_type": "code",
   "execution_count": 4,
   "id": "fa99884f-5959-464b-99e0-7021ec56ebc5",
   "metadata": {},
   "outputs": [],
   "source": [
    "from selenium import webdriver\n",
    "import pandas as pd\n",
    "import numpy as np\n",
    "\n",
    "driver = webdriver.Chrome('chromedriver')\n",
    "driver.implicitly_wait(3)\n",
    "\n",
    "day = []\n",
    "for i in range(2011,2021):\n",
    "    for j in range(1, 13):\n",
    "        for k in range(1,32):\n",
    "            day.append(str(i)+str(j).zfill(2)+str(k).zfill(2))\n",
    "            \n",
    "# 200 조선 / 11 경향 / 190 동아 / 8 중앙 / 17 한겨레\n",
    "# 1001 사회 / 1002 정치 / 1006 경제 / 1007 국제 / 1003 문화 / 1004 스포츠 / 1008 IT\n",
    "\n",
    "company = ['200','11','190','8','17']\n",
    "category = ['1001','1002','1006','1007','1003','1004', '1008']"
   ]
  },
  {
   "cell_type": "code",
   "execution_count": 5,
   "id": "e10cd12a-a5e8-4da1-b939-1dfb1c1e6000",
   "metadata": {},
   "outputs": [],
   "source": [
    "b = []\n",
    "for i in [company[2]]:\n",
    "    for j in category:\n",
    "        for k in day:\n",
    "            url = 'https://news.daum.net/cp/' + i + '?cateId=' + j + '&regDate=' + k\n",
    "            driver.get(url)\n",
    "            \n",
    "            if len(driver.find_elements_by_css_selector('#mArticle > div.box_etc > ul')) == 0:\n",
    "                pass\n",
    "            else:\n",
    "                a = driver.find_element_by_css_selector('#mArticle > div.box_etc > ul').text.split('\\n')\n",
    "                for m in range(len(a)):\n",
    "                    if m % 2 == 0:\n",
    "                        b.append([a[m][:-17], j[3]])"
   ]
  },
  {
   "cell_type": "code",
   "execution_count": 6,
   "id": "56fb8f58-b0bd-4c73-9bd6-58579bf41a2f",
   "metadata": {},
   "outputs": [],
   "source": [
    "pd.DataFrame(np.array(b), columns = ['title', 'category']).to_csv('donga.csv', index = None)"
   ]
  },
  {
   "cell_type": "code",
   "execution_count": null,
   "id": "4e8c805f-a7f5-4666-b20b-fc11acd55718",
   "metadata": {},
   "outputs": [],
   "source": []
  }
 ],
 "metadata": {
  "kernelspec": {
   "display_name": "Python 3",
   "language": "python",
   "name": "python3"
  },
  "language_info": {
   "codemirror_mode": {
    "name": "ipython",
    "version": 3
   },
   "file_extension": ".py",
   "mimetype": "text/x-python",
   "name": "python",
   "nbconvert_exporter": "python",
   "pygments_lexer": "ipython3",
   "version": "3.7.10"
  }
 },
 "nbformat": 4,
 "nbformat_minor": 5
}
