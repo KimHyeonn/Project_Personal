{
 "cells": [
  {
   "cell_type": "code",
   "execution_count": null,
   "id": "4e76f7ae",
   "metadata": {},
   "outputs": [],
   "source": [
    "# 네이버 뉴스 크롤링 -> 8/29 8/31 9/1 실행\n",
    "\n",
    "from selenium import webdriver\n",
    "import pandas as pd\n",
    "import numpy as np\n",
    "\n",
    "\n",
    "url = 'https://news.naver.com/main/main.naver?mode=LSD&mid=shm&sid1='\n",
    "\n",
    "\n",
    "category = ['100#&date=%2000:00:00&page=',\n",
    "            '101#&date=%2000:00:00&page=',\n",
    "            '102#&date=%2000:00:00&page=',\n",
    "            '103#&date=%2000:00:00&page=',\n",
    "            '104#&date=%2000:00:00&page=',\n",
    "            '105#&date=%2000:00:00&page=']\n",
    "#정치, 경제, 사회, 생활/문화, 세계, IT/과학\n",
    "driver = webdriver.Chrome('chromedriver')\n",
    "driver.implicitly_wait(1)\n",
    "driver.get('https://naver.com')\n",
    "\n",
    "f = pd.DataFrame()\n",
    "\n",
    "for cate in category:\n",
    "    \n",
    "    for page in range(1, 301):\n",
    "        \n",
    "        home = url + cate + str(page)\n",
    "\n",
    "        driver.get(home)\n",
    "\n",
    "        a = driver.find_element_by_css_selector('#section_body').text.split('\\n')\n",
    "        \n",
    "        b = []\n",
    "        i = 0\n",
    "        while i < len(a):\n",
    "            if (a[i].replace(',','').isdigit()) | (a[i] == '이상') | (a[i] == '+'):\n",
    "                pass\n",
    "            else:\n",
    "                b.append(a[i])\n",
    "\n",
    "            i += 1\n",
    "\n",
    "        c = []\n",
    "        \n",
    "        for j in b:\n",
    "            if j != '동영상기사':\n",
    "                c.append(j)       \n",
    "        \n",
    "        d = []\n",
    "        if len(c) == 60:\n",
    "\n",
    "            for k in range(len(c)):\n",
    "                if k % 3 == 0:\n",
    "                    d.append(c[k].replace('\\'', '').replace('\"','').replace('`','').replace('“','').replace('”',''))\n",
    "                elif k % 3 == 1:\n",
    "                    pass\n",
    "                else:\n",
    "                    d.append(c[k][:4])\n",
    "\n",
    "            e = pd.DataFrame(np.array(d).reshape(-1,2))\n",
    "            e['category'] = category.index(cate)\n",
    "\n",
    "\n",
    "            f = pd.concat([f, e])\n",
    "        else:\n",
    "            print('pass '+str(category.index(cate)) + ' ' + str(page))"
   ]
  },
  {
   "cell_type": "code",
   "execution_count": null,
   "id": "f5a78816",
   "metadata": {},
   "outputs": [],
   "source": [
    "f.columns = ['title','신문사','category']"
   ]
  },
  {
   "cell_type": "code",
   "execution_count": null,
   "id": "d570f0cd",
   "metadata": {},
   "outputs": [],
   "source": [
    "g = f.loc[f['신문사'] != '연합뉴스'].reset_index(drop=True)\n",
    "h = g.loc[~(g['신문사'].str.startswith('YTN'))]\n",
    "#정치, 경제, 사회, 생활/문화, 세계, IT/과학\n",
    "h['topic_idx'] = np.where(h['category'] == 0, 6,\n",
    "                         np.where(h['category'] == 1, 1,\n",
    "                                 np.where(h['category'] == 2, 2,\n",
    "                                         np.where(h['category'] == 3, 3,\n",
    "                                                 np.where(h['category'] == 4, 4,\n",
    "                                                         0)))))\n",
    "\n",
    "h['topic_idx'].value_counts()"
   ]
  },
  {
   "cell_type": "code",
   "execution_count": null,
   "id": "43ad1147",
   "metadata": {},
   "outputs": [],
   "source": [
    "h.to_csv('0901_300_1.csv', index = None)"
   ]
  }
 ],
 "metadata": {
  "kernelspec": {
   "display_name": "Python 3",
   "language": "python",
   "name": "python3"
  },
  "language_info": {
   "codemirror_mode": {
    "name": "ipython",
    "version": 3
   },
   "file_extension": ".py",
   "mimetype": "text/x-python",
   "name": "python",
   "nbconvert_exporter": "python",
   "pygments_lexer": "ipython3",
   "version": "3.7.10"
  }
 },
 "nbformat": 4,
 "nbformat_minor": 5
}
