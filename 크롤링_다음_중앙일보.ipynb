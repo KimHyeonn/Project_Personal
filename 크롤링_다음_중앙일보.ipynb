{
 "cells": [
  {
   "cell_type": "code",
   "execution_count": 9,
   "id": "15ba52a0-58d9-46c9-b0a5-5ae154619761",
   "metadata": {
    "tags": []
   },
   "outputs": [],
   "source": [
    "from selenium import webdriver\n",
    "import pandas as pd\n",
    "import numpy as np\n",
    "\n",
    "driver = webdriver.Chrome('chromedriver')\n",
    "driver.implicitly_wait(3)\n",
    "\n",
    "day = []\n",
    "for i in range(2011,2021):\n",
    "    for j in range(1, 13):\n",
    "        for k in range(1,32):\n",
    "            day.append(str(i)+str(j).zfill(2)+str(k).zfill(2))\n",
    "            \n",
    "# 200 조선 / 11 경향 / 190 동아 / 8 중앙 / 17 한겨레\n",
    "# 1001 사회 / 1002 정치 / 1006 경제 / 1007 국제 / 1003 문화 / 1004 스포츠 / 1008 IT\n",
    "\n",
    "company = ['200','11','190','8','17']\n",
    "category = ['1001','1002','1006','1007','1003','1004', '1008']"
   ]
  },
  {
   "cell_type": "code",
   "execution_count": 10,
   "id": "141eeb2e-fffb-4d29-a9f5-2b2d753cea0f",
   "metadata": {},
   "outputs": [],
   "source": [
    "b = []\n",
    "for i in [company[3]]:\n",
    "    for j in category:\n",
    "        for k in day:\n",
    "            url = 'https://news.daum.net/cp/' + i + '?cateId=' + j + '&regDate=' + k\n",
    "            driver.get(url)\n",
    "            \n",
    "            if len(driver.find_elements_by_css_selector('#mArticle > div.box_etc > ul')) == 0:\n",
    "                pass\n",
    "            else:\n",
    "                a = driver.find_element_by_css_selector('#mArticle > div.box_etc > ul').text.split('\\n')\n",
    "                for m in range(len(a)):\n",
    "                    if m % 2 == 0:\n",
    "                        b.append([a[m][:-17], j[3]])"
   ]
  },
  {
   "cell_type": "code",
   "execution_count": 11,
   "id": "fde5a2bb-01e8-4d8a-b3dd-e4c297f33bf2",
   "metadata": {},
   "outputs": [],
   "source": [
    "pd.DataFrame(np.array(b), columns = ['title', 'category']).to_csv('joongang.csv', index = None)"
   ]
  },
  {
   "cell_type": "code",
   "execution_count": null,
   "id": "5832d133-b09a-4ee8-b90a-b36df459e486",
   "metadata": {},
   "outputs": [],
   "source": []
  }
 ],
 "metadata": {
  "kernelspec": {
   "display_name": "Python 3",
   "language": "python",
   "name": "python3"
  },
  "language_info": {
   "codemirror_mode": {
    "name": "ipython",
    "version": 3
   },
   "file_extension": ".py",
   "mimetype": "text/x-python",
   "name": "python",
   "nbconvert_exporter": "python",
   "pygments_lexer": "ipython3",
   "version": "3.7.10"
  }
 },
 "nbformat": 4,
 "nbformat_minor": 5
}
